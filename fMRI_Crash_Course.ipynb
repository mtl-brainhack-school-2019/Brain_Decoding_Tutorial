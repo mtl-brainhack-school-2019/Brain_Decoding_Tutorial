{
 "cells": [
  {
   "cell_type": "markdown",
   "metadata": {},
   "source": [
    "# Everything you need to know about fMRI, as a programmer\n",
    "\n",
    "This notebook is a quick summary of what fMRI measures, how its data is structured, and how you can use it for machine learning models. "
   ]
  },
  {
   "cell_type": "markdown",
   "metadata": {},
   "source": [
    "## The Basics\n",
    "\n",
    "### So, what the heck is fMRI?\n",
    "\n",
    "When neurons fire (and thus consume energy), the body reacts by sending blood to that area (formally called a hemodynamic response). **F**unctional **m**agnetic **r**esonance **i**maging (fMRI) non-invasively measures brain activity by measuring this blood flow.\n",
    "\n",
    "This process is founded upon complicated (although fascinating) physics that extend beyond the scope of this introduction, but in short, fMRI is built upon the fact that oxygenated blood and deoxygenated blood have different magnetic properties. The MRI scanner creates a strong magnetic field around the area to be scanned, and what fMRI is technically detecting is changes in the magnetic field due to these differences in oxygen levels. Ipso facto, the signal measured in fMRI is a measure of the change in oxygenation levels of the blood (formally called the blood oxygenation level dependent, or BOLD signal), which in turn represents brain activity.\n",
    "\n",
    "<img src=\"https://i.postimg.cc/yYbM2TYx/Screen-Shot-2019-08-29-at-11-40-38-PM.png\" width=\"500\" height=\"500\">\n",
    "\n",
    "**Figure 1. A typical BOLD signal**. Note that initially, there is a short dip in blood oxygenation due to the neurons' consumption. Then, there is the peak of oxygenation (where the body actually sends more oxygen than was consumed), followed by an undershoot, before returning to baseline levels. It is interesting that the details of the hemodynamic response are still note fully understood today.\n",
    "\n",
    "image from: https://www.mdpi.com/1996-1944/4/11/1941/htm\n",
    "\n",
    "### Okay then, so what does the data look like?\n",
    "\n",
    "Well, brain data is stored as *volume data*, because it is a measure of a 3D volume. A brain scan (often called a brain \"image\") contains many *voxels*, which are the 3D equivalent of a pixel. The dimensions of a voxel make up the voxel's size (for example, 1mm x 1mm x 1mm). A voxel contains a value which represents the blood oxygenation level of that volume. The collection of data for a single image of the brain at a given point in time is called a *volume*. Please note that brain images are in 3D, but these images are usually stored in a time-series (in order to record neural activity changes across time), so the data is actually 4D. \n",
    "\n",
    "[![Screen-Shot-2019-08-16-at-12-20-34-PM.png](https://i.postimg.cc/7LfPpqwL/Screen-Shot-2019-08-16-at-12-20-34-PM.png)](https://postimg.cc/Z9zhNt9k)\n",
    "\n",
    "The brain is scanned in *slices* and are set in a standard coordinate space, as shown above.\n",
    "\n",
    "source: [Handbook of Functional MRI Data Analysis](https://www.cambridge.org/core/books/handbook-of-functional-mri-data-analysis/8EDF966C65811FCCC306F7C916228529) <br>\n",
    "\n",
    "Generally, the quality of an image is determined by the following:\n",
    "\n",
    "- **resolution**: This includes voxel size, the number of slices and their thickness.\n",
    "- **repetition time** (TR): The time needed to record one brain volume. Given that slices are acquired sequentially, a brain volume is technically not a true representation of an entire brain at a single point in time. For example, there is a delay in time between the 3rd and 4th slice. So, the shorter the repetition time, the shorter the delay and so the truer the representation is to the brain.\n",
    "- **acquisition** time (TA): The time needed to scan one slice (TA = TR-number of slices).\n",
    "- **field of view** (FOV): The dimensions of a slice (ex: 256mm x 256mm). A brain scan  includes both the brain data itself as well as the mepty space around it, so it is a bounding box.\n",
    "\n",
    "Raw data is commonly collected in the standardized DICOM image format. From there, this data must be converted, usually into the NIfTI format, in order to be analyzed. \n",
    "\n",
    "There are two components to image data:\n",
    "\n",
    "- **image**: The actual data of the brain, represented by a 3D matrix that contains an activation value for each voxel.\n",
    "- **header**: Information like voxel size, number of measured time points, etc.\n",
    "\n",
    "***\n",
    "\n",
    "There are different types of fMRI data:\n",
    "\n",
    "- **Event-related** design: The subject is presented with short bursts of stimuli. \n",
    "- **Block** design: The subject is presented longer bursts of stimuli.\n",
    "- **Resting-state** design: The subject is scanned in the absense of stimuli."
   ]
  },
  {
   "cell_type": "markdown",
   "metadata": {},
   "source": [
    "### Preprocessing\n",
    "\n",
    "After fMRI data is acquired, it goes through rigorous preprocessing steps in order to render the data in a useful form. \n",
    "\n",
    "The Haxby dataset we are using is not preprocessed, which means there is noise in the data. It will not prevent me of showing the concept of brain decoding, but the preprocessing steps will be added soon.\n",
    "\n",
    "https://cfn.upenn.edu/stslab/wiki/lib/exe/fetch.php/fmri_club:preprocess1:smith_2004_brjrad.pdf"
   ]
  },
  {
   "cell_type": "markdown",
   "metadata": {},
   "source": [
    "## Decoding\n",
    "\n",
    "So, what is brain decoding? There are several variations of brain decoding, but, in this tutorial, we will learn how to predict what people are looking at by looking at their BOLD signal! Different stimuli entail different brain activation patterns. By looking at these differences, we can predict what they are seeing. \n",
    "\n",
    "In this tutorial, we will train several machine learning models how to tell the differences\n",
    "in the brain activations (differences in BOLD values) between subjects looking at faces and subjects looking at cats. To do this, we will be converting brain volumes into manipulable numeric matrices. Matrices are an extremely convenient way to represent the data. Each value within the matrix is a BOLD value.\n",
    "\n",
    "Before we do that, let's visit the world of machine learning, in `ML_Crash_Course.ipynb`."
   ]
  },
  {
   "cell_type": "markdown",
   "metadata": {},
   "source": [
    "## Further reading\n",
    "\n",
    "[Handbook of Functional MRI Data Analysis](https://www.cambridge.org/core/books/handbook-of-functional-mri-data-analysis/8EDF966C65811FCCC306F7C916228529)"
   ]
  },
  {
   "cell_type": "markdown",
   "metadata": {},
   "source": [
    "## Sources:\n",
    "\n",
    "https://miykael.github.io/nipype-beginner-s-guide/neuroimaging.html <br>\n",
    "handbook of functional mri\n",
    "https://canlabweb.colorado.edu/files/fMRIChapter.pdf"
   ]
  }
 ],
 "metadata": {
  "kernelspec": {
   "display_name": "Python 3",
   "language": "python",
   "name": "python3"
  },
  "language_info": {
   "codemirror_mode": {
    "name": "ipython",
    "version": 3
   },
   "file_extension": ".py",
   "mimetype": "text/x-python",
   "name": "python",
   "nbconvert_exporter": "python",
   "pygments_lexer": "ipython3",
   "version": "3.7.3"
  }
 },
 "nbformat": 4,
 "nbformat_minor": 2
}
